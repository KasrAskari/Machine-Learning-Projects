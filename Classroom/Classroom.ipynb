{
 "cells": [
  {
   "cell_type": "markdown",
   "metadata": {},
   "source": [
    "# ClassRoom"
   ]
  },
  {
   "cell_type": "code",
   "execution_count": 3,
   "metadata": {},
   "outputs": [],
   "source": [
    "import numpy as np # type: ignore"
   ]
  },
  {
   "cell_type": "markdown",
   "metadata": {},
   "source": [
    "### Grades & Subjects"
   ]
  },
  {
   "cell_type": "code",
   "execution_count": 24,
   "metadata": {},
   "outputs": [],
   "source": [
    "grades = np.array([\n",
    "    [20, 20, 20, 20, 20],\n",
    "    [15, 17, 16, 16, 16],\n",
    "    [18, 19, 19, 20, 19],\n",
    "    [14, 13, 14, 15, 14],\n",
    "    [17, 18, 18, 18, 18],\n",
    "    [12, 12, 13, 13, 13],\n",
    "    [15, 16, 15, 15, 14],\n",
    "    [18, 18, 18, 19, 18],\n",
    "    [16, 17, 16, 17, 16],\n",
    "    [13, 13, 14, 14, 14]\n",
    "])\n",
    "\n",
    "subjects = [\"Math\", \"Pysics\", \"Biology\", \"English\", \"History\"]"
   ]
  },
  {
   "cell_type": "markdown",
   "metadata": {},
   "source": [
    "#### Class & Students Averages"
   ]
  },
  {
   "cell_type": "code",
   "execution_count": null,
   "metadata": {},
   "outputs": [],
   "source": [
    "Class_average = np.mean(grades)\n",
    "print(\"Class Average: \",Class_average)\n",
    "\n",
    "# student_averages = np.mean(grades, axis=0)\n",
    "student_averages = np.mean(grades, axis=1)\n",
    "print(\"Student Averages: \",student_averages)"
   ]
  },
  {
   "cell_type": "markdown",
   "metadata": {},
   "source": [
    "#### Top Students"
   ]
  },
  {
   "cell_type": "code",
   "execution_count": null,
   "metadata": {},
   "outputs": [],
   "source": [
    "top_students = np.argsort(student_averages)[-3:][::-1]\n",
    "print(\"Top Students: \",top_students + 1)"
   ]
  },
  {
   "cell_type": "markdown",
   "metadata": {},
   "source": [
    "#### Subject Averages"
   ]
  },
  {
   "cell_type": "code",
   "execution_count": null,
   "metadata": {},
   "outputs": [],
   "source": [
    "subject_averages = np.mean(grades, axis=0)\n",
    "print(\"Subject Averages: \",subject_averages)\n",
    "\n",
    "top_subject = np.argmax(subject_averages)\n",
    "print(\"Top Subject: \",top_subject)\n",
    "\n",
    "print(f\"Top Subject is: {subjects[top_subject]}\")"
   ]
  },
  {
   "cell_type": "markdown",
   "metadata": {},
   "source": [
    "#### Variance"
   ]
  },
  {
   "cell_type": "code",
   "execution_count": null,
   "metadata": {},
   "outputs": [],
   "source": [
    "variance = np.var(grades, axis=0)\n",
    "print(variance)\n",
    "stds = np.std(grades, axis=0)\n",
    "print(stds)"
   ]
  },
  {
   "cell_type": "markdown",
   "metadata": {},
   "source": [
    "#### Top Grades"
   ]
  },
  {
   "cell_type": "code",
   "execution_count": null,
   "metadata": {},
   "outputs": [],
   "source": [
    "top_grades = np.all(grades > 17, axis=1)\n",
    "counts = np.sum(top_grades)\n",
    "print(counts)\n"
   ]
  }
 ],
 "metadata": {
  "kernelspec": {
   "display_name": "Python 3",
   "language": "python",
   "name": "python3"
  },
  "language_info": {
   "codemirror_mode": {
    "name": "ipython",
    "version": 3
   },
   "file_extension": ".py",
   "mimetype": "text/x-python",
   "name": "python",
   "nbconvert_exporter": "python",
   "pygments_lexer": "ipython3",
   "version": "undefined.undefined.undefined"
  }
 },
 "nbformat": 4,
 "nbformat_minor": 2
}
